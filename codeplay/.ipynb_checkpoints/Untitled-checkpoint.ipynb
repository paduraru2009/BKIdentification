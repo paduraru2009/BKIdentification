{
 "cells": [
  {
   "cell_type": "code",
   "execution_count": 53,
   "metadata": {},
   "outputs": [],
   "source": [
    "# The purpose of this script is to train the best possible detector for bounding box classification problem\n",
    "import tensorflow as tf\n",
    "import os\n",
    "import numpy as np\n",
    "#from PIL import image\n",
    "\n",
    "AUTOTUNE = tf.data.experimental.AUTOTUNE\n",
    "\n",
    "pathToTrainFolder = os.path.join(\"ProcessedDataset\", \"CoreDetector\", \"train\")\n",
    "pathToValidationFolder = os.path.join(\"ProcessedDataset\", \"CoreDetector\", \"validation\")\n",
    "\n",
    "pathToTrain_negFolder = os.path.join(pathToTrainFolder, \"negatives\")\n",
    "pathToTrain_posFolder = os.path.join(pathToTrainFolder, \"positives\")\n",
    "pathToValidation_negFolder = os.path.join(pathToValidationFolder, \"negatives\")\n",
    "pathToValidation_posFolder = os.path.join(pathToValidationFolder, \"positives\")"
   ]
  },
  {
   "cell_type": "code",
   "execution_count": 104,
   "metadata": {},
   "outputs": [],
   "source": [
    "# Dataset processing utilities and parameters\n",
    "classNames = tf.convert_to_tensor([\"negatives\", \"positives\"])\n",
    "img_height = 224\n",
    "img_width = 224 # Reuse imagenet in mind...\n",
    "\n",
    "def processDataset(file_path):\n",
    "    # First, find the label from path\n",
    "    label = 1\n",
    "    parts = tf.strings.split(file_path, os.path.sep)\n",
    "    classForFile = parts[-2]\n",
    "    \n",
    "    if classForFile == classNames[0]:\n",
    "        label = 0\n",
    "    \n",
    "        \n",
    "    # Read image and resize \n",
    "    img = tf.io.read_file(file_path)\n",
    "    img = tf.image.decode_jpeg(img, channels=3)\n",
    "    img = tf.image.resize(img, [img_height, img_width])\n",
    "    \n",
    "    return img, label\n",
    "    \n",
    "def loadDatasets():\n",
    "    train_neg_ds = tf.data.Dataset.list_files(pathToTrain_negFolder+'/*.*', shuffle=False)\n",
    "    train_pos_ds = tf.data.Dataset.list_files(pathToTrain_posFolder+'/*.*', shuffle=False)\n",
    "    validation_neg_ds = tf.data.Dataset.list_files(pathToValidation_negFolder+'/*.*', shuffle=False)\n",
    "    validation_pos_ds = tf.data.Dataset.list_files(pathToValidation_posFolder+'/*.*', shuffle=False)\n",
    "    \n",
    "    train_neg_ds = train_neg_ds.map(processDataset, num_parallel_calls=AUTOTUNE)\n",
    "    train_pos_ds = train_pos_ds.map(processDataset, num_parallel_calls=AUTOTUNE)\n",
    "    validation_neg_ds = validation_neg_ds.map(processDataset, num_parallel_calls=AUTOTUNE)\n",
    "    validation_pos_ds = validation_pos_ds.map(processDataset, num_parallel_calls=AUTOTUNE) \n",
    "    \n",
    "    print(f\"Train neg cardinality {tf.data.experimental.cardinality(train_neg_ds).numpy()}\")\n",
    "    print(f\"Train pos cardinality {tf.data.experimental.cardinality(train_pos_ds).numpy()}\")\n",
    "    print(f\"Validation neg cardinality {tf.data.experimental.cardinality(validation_neg_ds).numpy()}\")    \n",
    "    print(f\"Validation pos cardinality {tf.data.experimental.cardinality(validation_pos_ds).numpy()}\")\n",
    "    \n",
    "    return train_neg_ds, train_pos_ds, validation_neg_ds, validation_pos_ds"
   ]
  },
  {
   "cell_type": "code",
   "execution_count": 105,
   "metadata": {},
   "outputs": [
    {
     "name": "stdout",
     "output_type": "stream",
     "text": [
      "Train neg cardinality 23\n",
      "Train pos cardinality 49\n",
      "Validation neg cardinality 5\n",
      "Validation pos cardinality 12\n"
     ]
    }
   ],
   "source": [
    "train_neg_ds, train_pos_ds, validation_neg_ds, validation_pos_ds = loadDatasets()"
   ]
  },
  {
   "cell_type": "code",
   "execution_count": 106,
   "metadata": {},
   "outputs": [
    {
     "name": "stdout",
     "output_type": "stream",
     "text": [
      "(224, 224, 3) tf.Tensor(0, shape=(), dtype=int32)\n",
      "(224, 224, 3) tf.Tensor(0, shape=(), dtype=int32)\n",
      "(224, 224, 3) tf.Tensor(0, shape=(), dtype=int32)\n"
     ]
    }
   ],
   "source": [
    "for img,label in validation_neg_ds.take(3):\n",
    "    print(img.shape, label)"
   ]
  },
  {
   "cell_type": "code",
   "execution_count": null,
   "metadata": {},
   "outputs": [],
   "source": []
  }
 ],
 "metadata": {
  "kernelspec": {
   "display_name": "Python 3",
   "language": "python",
   "name": "python3"
  },
  "language_info": {
   "codemirror_mode": {
    "name": "ipython",
    "version": 3
   },
   "file_extension": ".py",
   "mimetype": "text/x-python",
   "name": "python",
   "nbconvert_exporter": "python",
   "pygments_lexer": "ipython3",
   "version": "3.7.2"
  }
 },
 "nbformat": 4,
 "nbformat_minor": 2
}
